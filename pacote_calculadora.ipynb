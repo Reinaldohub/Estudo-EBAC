{
  "nbformat": 4,
  "nbformat_minor": 0,
  "metadata": {
    "colab": {
      "provenance": [],
      "authorship_tag": "ABX9TyMDZ8CXxh87AWExYeQbceDQ",
      "include_colab_link": true
    },
    "kernelspec": {
      "name": "python3",
      "display_name": "Python 3"
    },
    "language_info": {
      "name": "python"
    }
  },
  "cells": [
    {
      "cell_type": "markdown",
      "metadata": {
        "id": "view-in-github",
        "colab_type": "text"
      },
      "source": [
        "<a href=\"https://colab.research.google.com/github/Reinaldohub/Estudo-EBAC/blob/main/pacote_calculadora.ipynb\" target=\"_parent\"><img src=\"https://colab.research.google.com/assets/colab-badge.svg\" alt=\"Open In Colab\"/></a>"
      ]
    },
    {
      "cell_type": "markdown",
      "source": [
        "**Notas do projeto:**\n",
        "\n",
        "Esse projeto visa criar um pacote com operações básicas e adicionais de matemática.\n",
        "\n",
        "Vamos criar os scripts e ao final do projeto, será possivel instalar na máquina o pacote e reutilizar os códigos em outros projetos."
      ],
      "metadata": {
        "id": "OPyedqzGU71O"
      }
    },
    {
      "cell_type": "code",
      "execution_count": null,
      "metadata": {
        "id": "sZG09qt_U1sS"
      },
      "outputs": [],
      "source": [
        "## CRIANDO PASTA RAIZ\n",
        "\n",
        "# Primeiramente é necessário criar uma pasta raiz, onde irá conter um arquivo python \"setup.py\" e um arquivo \"Readme.md\" que precisa estar isolado do restante dos arquivos."
      ]
    },
    {
      "cell_type": "code",
      "source": [
        "## SETUP.PY\n",
        "\n",
        "from setuptools import setup\n",
        "\n",
        "setup(\n",
        "    name='Calculadora',\n",
        "    version='1.0.0',\n",
        "    description='Pacote de calculadora com operações básicas e avançadas.',\n",
        "    author='Seu Nome',\n",
        "    packages=['calculadora'],  # Pacote especificado diretamente\n",
        "    install_requires=[],  # Não há dependências externas\n",
        ")"
      ],
      "metadata": {
        "id": "5qN9SSzSVa6v"
      },
      "execution_count": null,
      "outputs": []
    },
    {
      "cell_type": "markdown",
      "source": [
        "**## README.md**\n",
        "\n",
        "# Calculadora\n",
        "\n",
        "Pacote Python que implementa operações básicas e avançadas de uma calculadora.\n",
        "\n",
        "## Instalação\n",
        "\n",
        "Execute o seguinte comando para instalar:\n",
        "\n",
        "```bash\n",
        "pip install ."
      ],
      "metadata": {
        "id": "xtqXOlazWrsB"
      }
    },
    {
      "cell_type": "code",
      "source": [
        "## Agora é necessário criar uma sub-pasta. Onde irão conter os scripts do projeto.\n",
        "\n",
        "## Nessa sub-pasta, teremos os seguintes arquivos:\n",
        "\n",
        "# __init__.py   (É necessário manter os dois underscores antes e após o init para poder funcionar corretamente.)\n",
        "# operacoes_basicas.py\n",
        "# operacoes_avancadas.py"
      ],
      "metadata": {
        "id": "CG4XluEoVm6u"
      },
      "execution_count": 1,
      "outputs": []
    },
    {
      "cell_type": "code",
      "source": [
        "## __init.__.py\n",
        "\n",
        "from .operacoes_basicas import *\n",
        "from .operacoes_avancadas import *\n",
        "\n",
        "__all__ = ['soma', 'subtracao', 'multiplicacao', 'divisao', 'potencia', 'raiz_quadrada', 'logaritmo']\n",
        "\n"
      ],
      "metadata": {
        "id": "Ogf0fmX8WSXx"
      },
      "execution_count": null,
      "outputs": []
    },
    {
      "cell_type": "markdown",
      "source": [
        "No projeto da calculadora em Python, o arquivo __init__.py é o que transforma a pasta em um pacote Python, para que possamos importar o pacote como se fosse um módulo.\n",
        "\n",
        "Aqui, ele serve principalmente para duas coisas:\n",
        "\n",
        "Facilitar a Importação: O __init__.py importa as funções de operacoes_basicas e operacoes_avancadas, assim conseguimos acessar essas funções direto do pacote, sem precisar entrar em cada submódulo.\n",
        "Organizar o Pacote: Ele ajuda a definir quais funções estarão disponíveis para quem for usar o pacote, o que deixa tudo mais prático e limpo.\n",
        "Com o __init__.py bem configurado, dá pra importar soma ou potencia direto, sem ter que acessar os arquivos internos, o que torna o pacote bem mais fácil de usar em outros projetos."
      ],
      "metadata": {
        "id": "T3dakc39Xla9"
      }
    },
    {
      "cell_type": "code",
      "source": [
        "## OPERACOES_BASICAS.py\n",
        "\n",
        "def soma(a, b):\n",
        "    return a + b\n",
        "\n",
        "def subtracao(a, b):\n",
        "    return a - b\n",
        "\n",
        "def multiplicacao(a, b):\n",
        "    return a * b\n",
        "\n",
        "def divisao(a, b):\n",
        "    if b == 0:\n",
        "        raise ValueError(\"Divisão por zero não é permitida.\")\n",
        "    return a / b"
      ],
      "metadata": {
        "id": "UaZOfRfoXr44"
      },
      "execution_count": null,
      "outputs": []
    },
    {
      "cell_type": "markdown",
      "source": [
        "**Aqui criamos funções para cada operação matemática básica.**"
      ],
      "metadata": {
        "id": "LJGwTRBCX4AJ"
      }
    },
    {
      "cell_type": "code",
      "source": [
        "## OPERACOES_AVANCADAS.py\n",
        "\n",
        "import math\n",
        "\n",
        "def potencia(base, expoente):\n",
        "    return base ** expoente\n",
        "\n",
        "def raiz_quadrada(valor):\n",
        "    if valor < 0:\n",
        "        raise ValueError(\"Não é possível calcular a raiz quadrada de um número negativo.\")\n",
        "    return math.sqrt(valor)\n",
        "\n",
        "def logaritmo(valor, base=10):\n",
        "    if valor <= 0:\n",
        "        raise ValueError(\"O logaritmo de um número menor ou igual a zero não é definido.\")\n",
        "    return math.log(valor, base)"
      ],
      "metadata": {
        "id": "Hm94kvTnX-7u"
      },
      "execution_count": null,
      "outputs": []
    },
    {
      "cell_type": "markdown",
      "source": [
        "Aqui criamos um segundo arquivo contendo algumas operações mais avançadas.\n",
        "Importamos nesse arquivo, uma biblioteca nativa do python \"Math\", que nos auxilia nessas operações mais complexas. E por se tratar de uma biblioteca nativa do python, quem for utilizar o pacote não vai ter que se preocupar em instalar nada para poder usar."
      ],
      "metadata": {
        "id": "8N_D7nLPYFxT"
      }
    },
    {
      "cell_type": "markdown",
      "source": [
        "**COMO INSTALAR?**\n",
        "\n",
        "Navegue até aquela pasta raiz que criamos no começo do projeto.\n",
        "Clique com o botão direito em algum local dessa pasta e abra o terminal.\n",
        "\n",
        "Utilize o comando bash: \"pip install -e .\" para rodar o arquivo setup.py e instalar o pacote\n",
        "\n",
        "Depois utilize o comando bash: \"pip list\"  para verificar a lista de pacotes instalados. Verifique se o nome do pacote está na lista.\n",
        "OBS: O nome do pacote vai ser o mesmo da sub-pasta da pasta raiz."
      ],
      "metadata": {
        "id": "3v5cZAA7ZVvt"
      }
    },
    {
      "cell_type": "code",
      "source": [
        "## TESTANDO O PACOTE:\n",
        "\n",
        "from calculadora import soma, potencia\n",
        "\n",
        "print(soma(5, 3))         # Saída esperada: 8\n",
        "print(potencia(2, 3))     # Saída esperada: 8\n",
        "\n",
        "# calculadora foi o nome atribuito a sub-pasta com os scripts, sendo assim, é por esse nome que você irá fazer a importação do pacote."
      ],
      "metadata": {
        "id": "hGC9Xua1aNwU"
      },
      "execution_count": null,
      "outputs": []
    }
  ]
}