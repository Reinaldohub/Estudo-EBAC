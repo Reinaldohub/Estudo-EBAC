{
  "nbformat": 4,
  "nbformat_minor": 0,
  "metadata": {
    "colab": {
      "provenance": [],
      "authorship_tag": "ABX9TyPtC6gFryRFYYgWdOAZs/9G",
      "include_colab_link": true
    },
    "kernelspec": {
      "name": "python3",
      "display_name": "Python 3"
    },
    "language_info": {
      "name": "python"
    }
  },
  "cells": [
    {
      "cell_type": "markdown",
      "metadata": {
        "id": "view-in-github",
        "colab_type": "text"
      },
      "source": [
        "<a href=\"https://colab.research.google.com/github/Reinaldohub/Estudo-EBAC/blob/main/projeto_tabuada.ipynb\" target=\"_parent\"><img src=\"https://colab.research.google.com/assets/colab-badge.svg\" alt=\"Open In Colab\"/></a>"
      ]
    },
    {
      "cell_type": "markdown",
      "source": [
        "**Notas do projeto:**\n",
        "\n",
        "Criei uma função, que informa ao usuário que ele deve digitar um número (Inteiro), e a função retorna a tabuada de 1 á 10 desse mesmo valor.\n",
        "\n",
        "A função conta com um try/catch para o caso do usuário, mesmo com o aviso, digitar um número decimal."
      ],
      "metadata": {
        "id": "y19A4Yp1SWvM"
      }
    },
    {
      "cell_type": "code",
      "execution_count": 2,
      "metadata": {
        "colab": {
          "base_uri": "https://localhost:8080/"
        },
        "id": "HSoZDD4eR4Qq",
        "outputId": "af4c1fb9-36e5-4332-e2ad-fdf115e7d779"
      },
      "outputs": [
        {
          "output_type": "stream",
          "name": "stdout",
          "text": [
            "ATENÇÃO: Digite apenas números inteiros\n",
            "Digite o valor desejado: 5\n",
            "5 x 1 = 5\n",
            "5 x 2 = 10\n",
            "5 x 3 = 15\n",
            "5 x 4 = 20\n",
            "5 x 5 = 25\n",
            "5 x 6 = 30\n",
            "5 x 7 = 35\n",
            "5 x 8 = 40\n",
            "5 x 9 = 45\n",
            "5 x 10 = 50\n"
          ]
        }
      ],
      "source": [
        "## Projeto Tabuada em Python.\n",
        "\n",
        "\n",
        "def GeradorDeTabuada():\n",
        "    print(\"ATENÇÃO: Digite apenas números inteiros\")\n",
        "    try:\n",
        "        valor = int(input(\"Digite o valor desejado: \"))\n",
        "        for i in range(1, 11):\n",
        "            resultado = valor * i\n",
        "            print(f'{valor} x {i} = {resultado}')\n",
        "    except ValueError:\n",
        "        print(\"Erro: Por favor, digite um número inteiro válido.\")\n",
        "\n",
        "# Chamando a função para calcular a tabuada\n",
        "GeradorDeTabuada()\n"
      ]
    }
  ]
}